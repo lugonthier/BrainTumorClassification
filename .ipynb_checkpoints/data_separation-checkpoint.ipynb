{
 "cells": [
  {
   "cell_type": "markdown",
   "id": "1fbae9c5-86c0-4be3-a5aa-88ec1433d5a0",
   "metadata": {},
   "source": [
    "# Projet : Forage de données IFT870"
   ]
  },
  {
   "cell_type": "markdown",
   "id": "ecca1d0c-f781-4191-855a-7b3c814c4cae",
   "metadata": {},
   "source": [
    "# Augmentation des données\n",
    "Ce notebook conient les traces des démarches entreprises pour separer les données en ensemble d'entraînement, de validation et de test"
   ]
  },
  {
   "cell_type": "markdown",
   "id": "4fd1f28a-b4b2-48ac-bd9a-4d045cfa63cc",
   "metadata": {},
   "source": [
    "### Installation des dépendances"
   ]
  },
  {
   "cell_type": "code",
   "execution_count": 1,
   "id": "310e87d1-ce7b-416a-a976-0f3c35afc506",
   "metadata": {},
   "outputs": [],
   "source": [
    "%load_ext autoreload\n",
    "%autoreload 2"
   ]
  },
  {
   "cell_type": "code",
   "execution_count": 2,
   "id": "21a8a587-785b-4b67-a758-4f02610d37c7",
   "metadata": {},
   "outputs": [],
   "source": [
    "from DataTransformation import *\n",
    "import importlib"
   ]
  },
  {
   "cell_type": "markdown",
   "id": "80df7f3e-5691-4325-8aa4-7939a9df8bde",
   "metadata": {},
   "source": [
    "### Importation de données\n",
    "Cette cellule est copiée de roi_augmentation.ipynb."
   ]
  },
  {
   "cell_type": "code",
   "execution_count": 3,
   "id": "ae5c9f8d-aa73-4a0e-8911-f6a66e97ca3f",
   "metadata": {},
   "outputs": [],
   "source": [
    "mat_data = load_data('mat')"
   ]
  },
  {
   "cell_type": "code",
   "execution_count": 33,
   "id": "abcebd20-ebfe-436c-a302-feeaf69e7418",
   "metadata": {},
   "outputs": [
    {
     "name": "stdout",
     "output_type": "stream",
     "text": [
      "708\n",
      "1426\n",
      "930\n",
      "3064\n",
      "-----\n"
     ]
    }
   ],
   "source": [
    "# Validation\n",
    "classified_data = classify_data(mat_data)\n",
    "print(len(classified_data[0]))\n",
    "print(len(classified_data[1]))\n",
    "print(len(classified_data[2]))\n",
    "total = len(classified_data[0]) + len(classified_data[1]) + len(classified_data[2])\n",
    "print(total)"
   ]
  },
  {
   "cell_type": "code",
   "execution_count": 32,
   "id": "2d9acf3d-3ef0-4f25-87f3-fb2cc142cc31",
   "metadata": {},
   "outputs": [
    {
     "name": "stdout",
     "output_type": "stream",
     "text": [
      "2452\n",
      "306\n",
      "306\n"
     ]
    }
   ],
   "source": [
    "mat_train, mat_test, mat_val = separate_train_test_val(classified_data)\n",
    "\n",
    "print(len(mat_train))\n",
    "print(len(mat_test))\n",
    "print(len(mat_val))"
   ]
  },
  {
   "cell_type": "code",
   "execution_count": null,
   "id": "13857454-668d-493d-affa-07aca91d86de",
   "metadata": {},
   "outputs": [],
   "source": []
  }
 ],
 "metadata": {
  "kernelspec": {
   "display_name": "Python 3 (ipykernel)",
   "language": "python",
   "name": "python3"
  },
  "language_info": {
   "codemirror_mode": {
    "name": "ipython",
    "version": 3
   },
   "file_extension": ".py",
   "mimetype": "text/x-python",
   "name": "python",
   "nbconvert_exporter": "python",
   "pygments_lexer": "ipython3",
   "version": "3.10.2"
  }
 },
 "nbformat": 4,
 "nbformat_minor": 5
}
