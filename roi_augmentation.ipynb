{
 "cells": [
  {
   "cell_type": "markdown",
   "id": "7d0a5be4-d574-4c2a-8935-b2ce55aec89b",
   "metadata": {},
   "source": [
    "# Projet : Forage de données IFT870"
   ]
  },
  {
   "cell_type": "markdown",
   "id": "0b336103-a421-44b1-9779-18fdcf9b32ed",
   "metadata": {},
   "source": [
    "# Augmentaion de la région d'intérêt"
   ]
  },
  {
   "cell_type": "markdown",
   "id": "46450c59-a10b-4762-92db-48eeabeaa713",
   "metadata": {},
   "source": [
    "Ce notebook contiendra des traces de la méthode utilisée pour augmenter la région d'intérêt de la tumeur."
   ]
  },
  {
   "cell_type": "markdown",
   "id": "d2d8605b-e18d-408c-8b11-601ec7ad7b79",
   "metadata": {},
   "source": [
    "### Installation des dépendances"
   ]
  },
  {
   "cell_type": "code",
   "execution_count": null,
   "id": "80d4dfea-ba07-464d-a6c0-ad384c815f29",
   "metadata": {},
   "outputs": [],
   "source": [
    "from skimage import io\n",
    "import matplotlib.pyplot as plt\n",
    "import numpy as np\n",
    "import os\n",
    "import scipy.io\n",
    "from scipy import ndimage\n",
    "from pymatreader import read_mat\n",
    "\n",
    "\n",
    "# On se demande pourquoi pip install en windows powershell ne l'installe pas.\n",
    "# !pip install pymatreader "
   ]
  },
  {
   "cell_type": "markdown",
   "id": "1f2eed46-29e6-4f59-af11-6c3a36eda985",
   "metadata": {},
   "source": [
    "### Importation de données"
   ]
  },
  {
   "cell_type": "code",
   "execution_count": null,
   "id": "4754c6b0-a99a-4f4b-8a7e-0e813e40b60a",
   "metadata": {},
   "outputs": [],
   "source": [
    "nb_images = 3064\n",
    "\n",
    "class_names = ['meningiome', 'gliome', 'pituitaire']\n",
    "\n",
    "def load_data(type, nb_images=3064):\n",
    "    data = [ [], [], [] ] # index : meningioma = 0, glioma = 1, pituitary = 2\n",
    "    if type == 'mat':\n",
    "        for i in range(1, nb_images):\n",
    "            dir = \"dataset/mat/\" + str(i) + \".mat\"\n",
    "            mat_file = read_mat(dir)\n",
    "            classe = int(mat_file[\"cjdata\"][\"label\"]-1) # -1 car les indices commencent a 1 dans les fichiers mat\n",
    "            data[classe].append(mat_file)\n",
    "        return data\n",
    "    \n",
    "    if type == 'png':\n",
    "        class_nb = [1, 2, 3]    \n",
    "        for i in range(len(class_nb)):\n",
    "            dir = \"dataset/png/\" + str(class_nb[i])\n",
    "            for path in os.listdir(dir):\n",
    "                # print(dir)\n",
    "                # print(path)\n",
    "                data[i].append(io.imread(dir + \"/\" + path))\n",
    "        return data\n",
    "\n",
    "\n",
    "mat_data = load_data(type='mat')\n",
    "png_data = load_data(type='png', nb_images=2)\n"
   ]
  },
  {
   "cell_type": "markdown",
   "id": "ea45e7d5-a3ee-4e12-91d5-65fed67d4c41",
   "metadata": {},
   "source": [
    "### Rappel : Visualisation d'une donnée au format mat"
   ]
  },
  {
   "cell_type": "code",
   "execution_count": null,
   "id": "ce3f1a7b-c2a6-48fe-a2af-bcec840419de",
   "metadata": {},
   "outputs": [],
   "source": [
    "mat1 = mat_data[1][0]\n",
    "plt.imshow(mat1[\"cjdata\"]['image'], interpolation='nearest')\n",
    "print('Etiquette de l''image : ', class_names[int(mat1[\"cjdata\"][\"label\"]-1)])\n",
    "plt.show()\n",
    "\n",
    "tumorMask = mat1['cjdata']['tumorMask']\n",
    "plt.imshow(tumorMask, cmap='Greys', interpolation='nearest')\n",
    "plt.title('Région d\\'intérêt (tumeur)')\n",
    "plt.show()"
   ]
  },
  {
   "cell_type": "markdown",
   "id": "b1a0960d-c63a-4b7c-9f46-9142be1349a8",
   "metadata": {},
   "source": [
    "### Dilatation avec un filtre carré et un filtre circulaire\n"
   ]
  },
  {
   "cell_type": "code",
   "execution_count": null,
   "id": "eb9f237b-409a-4be0-94ca-f8b788ff3dd5",
   "metadata": {},
   "outputs": [],
   "source": [
    "fig, (ax1, ax2, ax3) = plt.subplots(1, 3, figsize=(15,15))\n",
    "fig.suptitle('Région d\\'intérêt (tumeur)');\n",
    "\n",
    "# Filtre carre\n",
    "dilation_structure = np.ones((20,20))\n",
    "dilatedTumorMask_square = ndimage.binary_dilation(tumorMask, dilation_structure)\n",
    "ax1.title.set_text('Filtre carré')\n",
    "ax1.imshow(dilatedTumorMask_square, cmap='Greys', interpolation='nearest')\n",
    "\n",
    "# Filtre circulaire\n",
    " \n",
    "# https://stackoverflow.com/questions/44865023/how-can-i-create-a-circular-mask-for-a-numpy-array\n",
    "def create_circular_mask(h, w, center=None, radius=None):\n",
    "\n",
    "    if center is None: # use the middle of the image\n",
    "        center = (int(w/2), int(h/2))\n",
    "    if radius is None: # use the smallest distance between the center and image walls\n",
    "        radius = min(center[0], center[1], w-center[0], h-center[1])\n",
    "\n",
    "    Y, X = np.ogrid[:h, :w]\n",
    "    dist_from_center = np.sqrt((X - center[0])**2 + (Y-center[1])**2)\n",
    "\n",
    "    mask = dist_from_center <= radius\n",
    "    return mask\n",
    "\n",
    "circular_mask = create_circular_mask(20,20)\n",
    "\n",
    "dilatedTumorMask_cicle = ndimage.binary_dilation(tumorMask, circular_mask)\n",
    "ax2.title.set_text('Filtre circulaire')\n",
    "ax2.imshow(dilatedTumorMask_cicle, cmap='Greys', interpolation='nearest');\n",
    "\n",
    "\n",
    "# Difference\n",
    "differences = np.logical_xor(dilatedTumorMask_square, dilatedTumorMask_cicle)\n",
    "ax3.title.set_text('Différences')\n",
    "ax3.imshow(differences, cmap='Greys', interpolation='nearest');\n",
    "\n",
    "\n"
   ]
  },
  {
   "cell_type": "markdown",
   "id": "cf5f8305-62bd-4a7e-8fdf-8c3d4bd27257",
   "metadata": {},
   "source": [
    "### Partitionnement"
   ]
  },
  {
   "cell_type": "code",
   "execution_count": 171,
   "id": "ac1b7b24-e9ee-41ba-8bc4-b34fa75abc23",
   "metadata": {},
   "outputs": [
    {
     "name": "stdout",
     "output_type": "stream",
     "text": [
      "32\n",
      "dim 512\n",
      "16240\n",
      "16240\n"
     ]
    },
    {
     "data": {
      "text/plain": [
       "(array([1927., 3532., 3095., 2780., 1908., 1288.,  868.,  450.,  284.,\n",
       "         108.]),\n",
       " array([7.18311085e-02, 9.07264636e+00, 1.80734616e+01, 2.70742769e+01,\n",
       "        3.60750921e+01, 4.50759074e+01, 5.40767226e+01, 6.30775379e+01,\n",
       "        7.20783531e+01, 8.10791684e+01, 9.00799836e+01]),\n",
       " <BarContainer object of 10 artists>)"
      ]
     },
     "execution_count": 171,
     "metadata": {},
     "output_type": "execute_result"
    },
    {
     "data": {
      "image/png": "[encoded data removed]",
      "text/plain": [
       "<Figure size 432x288 with 1 Axes>"
      ]
     },
     "metadata": {
      "needs_background": "light"
     },
     "output_type": "display_data"
    }
   ],
   "source": [
    "# Cette fonction calcule la distance Minkowski entre un vecteur x et une matrice Y (Atelier 3)\n",
    "def minkowski_mat(x, Y, p=2):\n",
    "    return (np.sum((np.abs(x - Y)) ** p, axis=1)) ** (1.0 / p)\n",
    "\n",
    "# Cette fonction retourne une lise de couple au format [ [x1,y1], [x2,y2], ...,  [xn,yn] ]\n",
    "def make_couple(data):\n",
    "    # Verification\n",
    "    if not( len(data) % 2 == 0):\n",
    "        print('La dimension des données doit etre paire')\n",
    "        return\n",
    "    \n",
    "    couples = []\n",
    "    for i in range(int(len(data)/2.0)):\n",
    "        x.append([data[2*i], data[2*i + 1]])\n",
    "    \n",
    "    return couples\n",
    "\n",
    "\n",
    "# Cette fonction calcule la distance la plus courte entre un element du mask et la bordure\n",
    "#   border - doit etre sous format couple ( voir make_couple(data) )\n",
    "#   mask_data - doit etre au format TRUE FALSE\n",
    "def dist_elem_mask(border, mask_data):\n",
    "    print(len(border))\n",
    "    count = 0\n",
    "    dim = len(mask_data)\n",
    "    dist_mask = np.ndarray((dim,dim)) # distances with 0 values\n",
    "    min_distances = [] # distances only\n",
    "    print('dim', dim)\n",
    "    \n",
    "    for x in range(dim):\n",
    "        for y in range(dim):\n",
    "            if mask_data[x][y] == 1:\n",
    "                min_dist = float('inf')\n",
    "                for border_point in border:\n",
    "                    delta_x = abs(x - border_point[0])\n",
    "                    delta_y = abs(y - border_point[1])\n",
    "                    dist = (delta_x**2 + delta_y**2)**(1/2)\n",
    "                    if dist < min_dist:\n",
    "                        min_dist = dist\n",
    "                min_distances.append(min_dist)\n",
    "                dist_mask[x][y] = min_dist\n",
    "            else:\n",
    "                dist_mask[x][y] = None\n",
    "                \n",
    "    return dist_mask, min_distances\n",
    "\n",
    "\n",
    "\n",
    "\n",
    "\n",
    "border = make_couple(mat1['cjdata']['tumorBorder'])\n",
    "mask_with_distances, distances_only = dist_elem_mask(border, mat1['cjdata']['tumorMask'])\n",
    "print(np.count_nonzero(mat1['cjdata']['tumorMask']))\n",
    "print(len(distances_only))\n",
    "\n",
    "plt.hist(distances_only)"
   ]
  },
  {
   "cell_type": "code",
   "execution_count": null,
   "id": "69624aac-494d-42bc-8221-b99d16fd8b90",
   "metadata": {},
   "outputs": [],
   "source": []
  },
  {
   "cell_type": "code",
   "execution_count": null,
   "id": "9860f18f-458a-43ae-be5c-fa484e133549",
   "metadata": {},
   "outputs": [],
   "source": []
  }
 ],
 "metadata": {
  "kernelspec": {
   "display_name": "Python 3 (ipykernel)",
   "language": "python",
   "name": "python3"
  },
  "language_info": {
   "codemirror_mode": {
    "name": "ipython",
    "version": 3
   },
   "file_extension": ".py",
   "mimetype": "text/x-python",
   "name": "python",
   "nbconvert_exporter": "python",
   "pygments_lexer": "ipython3",
   "version": "3.10.2"
  }
 },
 "nbformat": 4,
 "nbformat_minor": 5
}
