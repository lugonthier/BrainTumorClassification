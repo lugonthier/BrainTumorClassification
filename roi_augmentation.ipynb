{
 "cells": [
  {
   "cell_type": "markdown",
   "id": "7d0a5be4-d574-4c2a-8935-b2ce55aec89b",
   "metadata": {},
   "source": [
    "# Projet : Forage de données IFT870"
   ]
  },
  {
   "cell_type": "markdown",
   "id": "0b336103-a421-44b1-9779-18fdcf9b32ed",
   "metadata": {},
   "source": [
    "# Augmentaion de la région d'intérêt"
   ]
  },
  {
   "cell_type": "markdown",
   "id": "46450c59-a10b-4762-92db-48eeabeaa713",
   "metadata": {},
   "source": [
    "Ce notebook contiendra des traces de la méthode utilisée pour augmenter la région d'intérêt de la tumeur."
   ]
  },
  {
   "cell_type": "markdown",
   "id": "d2d8605b-e18d-408c-8b11-601ec7ad7b79",
   "metadata": {},
   "source": [
    "### Installation des dépendances"
   ]
  },
  {
   "cell_type": "code",
   "execution_count": 4,
   "id": "80d4dfea-ba07-464d-a6c0-ad384c815f29",
   "metadata": {},
   "outputs": [],
   "source": [
    "from skimage import io\n",
    "import matplotlib.pyplot as plt\n",
    "import numpy as np\n",
    "import os\n",
    "import scipy.io\n",
    "from pymatreader import read_mat\n",
    "\n",
    "\n",
    "# On se demande pourquoi pip install en windows powershell ne l'installe pas.\n",
    "# !pip install pymatreader "
   ]
  },
  {
   "cell_type": "markdown",
   "id": "1f2eed46-29e6-4f59-af11-6c3a36eda985",
   "metadata": {},
   "source": [
    "### Importation de données"
   ]
  },
  {
   "cell_type": "code",
   "execution_count": 55,
   "id": "4754c6b0-a99a-4f4b-8a7e-0e813e40b60a",
   "metadata": {},
   "outputs": [],
   "source": [
    "nb_images = 3064\n",
    "\n",
    "class_names = ['meningiome', 'gliome', 'pituitaire']\n",
    "\n",
    "def load_data(type, nb_images=3064):\n",
    "    data = [ [], [], [] ] # index : meningioma = 0, glioma = 1, pituitary = 2\n",
    "    if type == 'mat':\n",
    "        for i in range(1, nb_images):\n",
    "            dir = \"dataset/mat/\" + str(i) + \".mat\"\n",
    "            mat_file = read_mat(dir)\n",
    "            classe = int(mat_file[\"cjdata\"][\"label\"]-1) # -1 car les indices commencent a 1 dans les fichiers mat\n",
    "            data[classe].append(mat_file)\n",
    "        return data\n",
    "    \n",
    "    if type == 'png':\n",
    "        class_nb = [1, 2, 3]    \n",
    "        for i in range(len(class_nb)):\n",
    "            dir = \"dataset/png/\" + str(class_nb[i])\n",
    "            for path in os.listdir(dir):\n",
    "                # print(dir)\n",
    "                # print(path)\n",
    "                data[i].append(io.imread(dir + \"/\" + path))\n",
    "        return data\n",
    "\n",
    "\n",
    "mat_data = load_data(type='mat')\n",
    "png_data = load_data(type='png', nb_images=2)\n"
   ]
  },
  {
   "cell_type": "code",
   "execution_count": null,
   "id": "9ffe867d-5f74-4e35-bd94-3781499795ae",
   "metadata": {},
   "outputs": [],
   "source": []
  }
 ],
 "metadata": {
  "kernelspec": {
   "display_name": "Python 3 (ipykernel)",
   "language": "python",
   "name": "python3"
  },
  "language_info": {
   "codemirror_mode": {
    "name": "ipython",
    "version": 3
   },
   "file_extension": ".py",
   "mimetype": "text/x-python",
   "name": "python",
   "nbconvert_exporter": "python",
   "pygments_lexer": "ipython3",
   "version": "3.10.2"
  }
 },
 "nbformat": 4,
 "nbformat_minor": 5
}
