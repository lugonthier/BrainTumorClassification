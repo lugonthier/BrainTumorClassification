{
 "cells": [
  {
   "cell_type": "markdown",
   "metadata": {},
   "source": [
    "# Projet : Forage de données IFT870"
   ]
  },
  {
   "cell_type": "markdown",
   "metadata": {},
   "source": [
    "# Analyse des données\n",
    "Ce notebook contient les traces des démarches entreprises pour l'analyse des données mat bruts. Les différentes analyses sont les suivantes : \n",
    "- Pourcentage de la surface de la tumeur par rapport à toute l'image\n",
    "    - Pour toutes les données\n",
    "    - Pour une classe\n",
    "- Coordonnées moyenne de la tumeur\n",
    "    - Pour toutes les données\n",
    "    - Pour une classe  "
   ]
  },
  {
   "cell_type": "code",
   "execution_count": 1,
   "metadata": {},
   "outputs": [],
   "source": [
    "from pymatreader import read_mat\n",
    "import numpy as np\n",
    "import os\n",
    "\n",
    "img = read_mat('dataset/mat/1.mat')\n"
   ]
  },
  {
   "cell_type": "code",
   "execution_count": 2,
   "metadata": {},
   "outputs": [],
   "source": [
    "def separate_mat_files():\n",
    "    directory = 'dataset/mat/'\n",
    "    list_file_class1 = []\n",
    "    list_file_class2 = []\n",
    "    list_file_class3 = []\n",
    "    \n",
    "    for filename in os.listdir(directory):\n",
    "        f = os.path.join(directory, filename) \n",
    "\n",
    "        if os.path.isfile(f):\n",
    "            mat = read_mat(f)\n",
    "            \n",
    "            if mat['cjdata']['label'] == 1.0:\n",
    "                list_file_class1.append(mat)\n",
    "                \n",
    "            if mat['cjdata']['label'] == 2.0:\n",
    "                list_file_class2.append(mat)\n",
    "                \n",
    "            if mat['cjdata']['label'] == 3.0:\n",
    "                list_file_class3.append(mat)\n",
    "                \n",
    "    return list_file_class1, list_file_class2, list_file_class3"
   ]
  },
  {
   "cell_type": "code",
   "execution_count": 3,
   "metadata": {},
   "outputs": [],
   "source": [
    "list_file_class1, list_file_class2, list_file_class3 = separate_mat_files()"
   ]
  },
  {
   "cell_type": "markdown",
   "metadata": {},
   "source": [
    "# Pourcentage de la surface de la tumeur par rapport à toute l'image"
   ]
  },
  {
   "cell_type": "code",
   "execution_count": 4,
   "metadata": {},
   "outputs": [
    {
     "data": {
      "text/plain": [
       "1.7429351806640625"
      ]
     },
     "execution_count": 4,
     "metadata": {},
     "output_type": "execute_result"
    }
   ],
   "source": [
    "def calculate_percentage_tumor(file_mat):\n",
    "    \n",
    "    size_image = 512 * 512\n",
    "    size_tumor = file_mat['cjdata']['tumorMask'].sum()\n",
    "    percentage_tumor = size_tumor / size_image * 100\n",
    "    \n",
    "    return percentage_tumor\n",
    "calculate_percentage_tumor(img)"
   ]
  },
  {
   "cell_type": "code",
   "execution_count": 5,
   "metadata": {},
   "outputs": [],
   "source": [
    "def calculate_percentage_tumor_per_class(list_file_class):\n",
    "    \n",
    "    size_image = 512 * 512\n",
    "    list_percentage_per_class = []\n",
    "    \n",
    "    for i in range(len(list_file_class)):\n",
    "        size_tumor_i = list_file_class[i]['cjdata']['tumorMask'].sum()\n",
    "        percentage_tumor_i = size_tumor_i / size_image*100\n",
    "        list_percentage_per_class.append(percentage_tumor_i)\n",
    "    \n",
    "    return list_percentage_per_class\n",
    "\n",
    "percentage_class1 = calculate_percentage_tumor_per_class(list_file_class1)\n",
    "percentage_class2 = calculate_percentage_tumor_per_class(list_file_class2)\n",
    "percentage_class3 = calculate_percentage_tumor_per_class(list_file_class3)"
   ]
  },
  {
   "cell_type": "code",
   "execution_count": 6,
   "metadata": {},
   "outputs": [],
   "source": [
    "percentage_all_data = percentage_class1 + percentage_class2 + percentage_class3"
   ]
  },
  {
   "cell_type": "code",
   "execution_count": 7,
   "metadata": {},
   "outputs": [],
   "source": [
    "def print_caracteristics_percentage(list_percentage):\n",
    "    array = np.asarray(list_percentage)\n",
    "    print(\"le pourcentage minimum est de : \", np.min(array))\n",
    "    print(\"le pourcentage maximum est de : \", np.max(array))\n",
    "    print(\"l'écart-type est de : \", np.std(array))\n",
    "    print(\"la moyenne est de : \", np.mean(array))\n",
    "    print(\"la variance est de : \", np.var(array))"
   ]
  },
  {
   "cell_type": "code",
   "execution_count": 8,
   "metadata": {},
   "outputs": [
    {
     "name": "stdout",
     "output_type": "stream",
     "text": [
      "\u001b[1mMeningiome\n",
      "\u001b[0m\n",
      "le pourcentage minimum est de :  0.0972747802734375\n",
      "le pourcentage maximum est de :  5.80596923828125\n",
      "l'écart-type est de :  1.192650250115401\n",
      "la moyenne est de :  1.7756203473624537\n",
      "la variance est de :  1.4224146191003288\n"
     ]
    }
   ],
   "source": [
    "print('\\033[1m' + \"Meningiome\")\n",
    "print('\\033[0m')\n",
    "print_caracteristics_percentage(percentage_class1)"
   ]
  },
  {
   "cell_type": "code",
   "execution_count": 9,
   "metadata": {},
   "outputs": [
    {
     "name": "stdout",
     "output_type": "stream",
     "text": [
      "\u001b[1mGliome\n",
      "\u001b[0m\n",
      "le pourcentage minimum est de :  0.1110076904296875\n",
      "le pourcentage maximum est de :  9.712600708007812\n",
      "l'écart-type est de :  1.542112064393804\n",
      "la moyenne est de :  2.204345820829544\n",
      "la variance est de :  2.37810961914892\n"
     ]
    }
   ],
   "source": [
    "print('\\033[1m' + \"Gliome\")\n",
    "print('\\033[0m')\n",
    "print_caracteristics_percentage(percentage_class2)"
   ]
  },
  {
   "cell_type": "code",
   "execution_count": 10,
   "metadata": {},
   "outputs": [
    {
     "name": "stdout",
     "output_type": "stream",
     "text": [
      "\u001b[1mPituitaire\n",
      "\u001b[0m\n",
      "le pourcentage minimum est de :  0.0621795654296875\n",
      "le pourcentage maximum est de :  4.45709228515625\n",
      "l'écart-type est de :  0.6225113297976087\n",
      "la moyenne est de :  0.8254512663810484\n",
      "la variance est de :  0.3875203557263871\n"
     ]
    }
   ],
   "source": [
    "print('\\033[1m' + \"Pituitaire\")\n",
    "print('\\033[0m')\n",
    "print_caracteristics_percentage(percentage_class3)"
   ]
  },
  {
   "cell_type": "code",
   "execution_count": 11,
   "metadata": {},
   "outputs": [
    {
     "name": "stdout",
     "output_type": "stream",
     "text": [
      "\u001b[1mToutes les données\n",
      "\u001b[0m\n",
      "le pourcentage minimum est de :  0.0621795654296875\n",
      "le pourcentage maximum est de :  9.712600708007812\n",
      "l'écart-type est de :  1.3801298457068096\n",
      "la moyenne est de :  1.6867513133713845\n",
      "la variance est de :  1.9047583910107024\n"
     ]
    }
   ],
   "source": [
    "print('\\033[1m' + \"Toutes les données\")\n",
    "print('\\033[0m')\n",
    "print_caracteristics_percentage(percentage_all_data)"
   ]
  },
  {
   "cell_type": "markdown",
   "metadata": {},
   "source": [
    "# Localisation de la moyenne de la tumeur"
   ]
  },
  {
   "cell_type": "code",
   "execution_count": 17,
   "metadata": {},
   "outputs": [],
   "source": [
    "def calculate_mean_tumor_per_class(list_file_class):\n",
    "    \n",
    "    array_tumorBorder = img['cjdata']['tumorBorder']\n",
    "    list_mean_tumor_per_class_coord_x = []\n",
    "    list_mean_tumor_per_class_coord_y = []\n",
    "    \n",
    "    for i in range(len(list_file_class)):\n",
    "        array_tumorBorder_i = list_file_class[i]['cjdata']['tumorBorder']\n",
    "        array_tumorBorder_ix = array_tumorBorder[0:len(array_tumorBorder_i):2]\n",
    "        array_tumorBorder_iy = array_tumorBorder[1:len(array_tumorBorder_i):2]\n",
    "        mean_tumor_ix = array_tumorBorder_ix.sum() / len(array_tumorBorder_ix)\n",
    "        mean_tumor_iy = array_tumorBorder_iy.sum() / len(array_tumorBorder_iy)\n",
    "        list_mean_tumor_per_class_coord_x.append(mean_tumor_ix)\n",
    "        list_mean_tumor_per_class_coord_y.append(mean_tumor_iy)\n",
    "    \n",
    "    return list_mean_tumor_per_class_coord_x, list_mean_tumor_per_class_coord_y\n",
    "\n",
    "mean_tumor_class1_coord_x, mean_tumor_class1_coord_y = calculate_mean_tumor_per_class(list_file_class1)\n",
    "mean_tumor_class2_coord_x, mean_tumor_class2_coord_y = calculate_mean_tumor_per_class(list_file_class2)\n",
    "mean_tumor_class3_coord_x, mean_tumor_class3_coord_y = calculate_mean_tumor_per_class(list_file_class3)"
   ]
  },
  {
   "cell_type": "code",
   "execution_count": 18,
   "metadata": {},
   "outputs": [],
   "source": [
    "mean_tumor_all_data_coord_x = mean_tumor_class1_coord_x + mean_tumor_class2_coord_x + mean_tumor_class3_coord_x\n",
    "mean_tumor_all_data_coord_y = mean_tumor_class1_coord_y + mean_tumor_class2_coord_y + mean_tumor_class3_coord_y"
   ]
  },
  {
   "cell_type": "code",
   "execution_count": 19,
   "metadata": {},
   "outputs": [],
   "source": [
    "def print_caracteristics_mean_tumor(list_mean_tumor_x, list_mean_tumor_y):\n",
    "    array_coord_x = np.asarray(list_mean_tumor_x)\n",
    "    array_coord_y = np.asarray(list_mean_tumor_y)\n",
    "    print(\"l'écart-type de la coordonnee x est : \", np.std(array_coord_x), \" et l'écart-type de la coordonnee y est : \", np.std(array_coord_y))\n",
    "    print(\"la moyenne de la coordonnee x est de : \", np.mean(array_coord_x), \" et la moyenne de la coordonnee y est de : \", np.mean(array_coord_y))\n",
    "    print(\"la variance de la coordonnee x est de : \", np.var(array_coord_x), \" et la variance de la coordonnee y est de : \", np.var(array_coord_y))"
   ]
  },
  {
   "cell_type": "code",
   "execution_count": 20,
   "metadata": {},
   "outputs": [
    {
     "name": "stdout",
     "output_type": "stream",
     "text": [
      "\u001b[1mMeningiome\n",
      "\u001b[0m\n",
      "l'écart-type de la coordonnee x est :  2.9770820459032024  et l'écart-type de la coordonnee y est :  1.5569586719266386\n",
      "la moyenne de la coordonnee x est de :  319.77918849786016  et la moyenne de la coordonnee y est de :  219.69697269711665\n",
      "la variance de la coordonnee x est de :  8.863017508039198  et la variance de la coordonnee y est de :  2.4241203060875622\n"
     ]
    }
   ],
   "source": [
    "print('\\033[1m' + \"Meningiome\")\n",
    "print('\\033[0m')\n",
    "print_caracteristics_mean_tumor(mean_tumor_class1_coord_x, mean_tumor_class1_coord_y)"
   ]
  },
  {
   "cell_type": "code",
   "execution_count": 21,
   "metadata": {},
   "outputs": [
    {
     "name": "stdout",
     "output_type": "stream",
     "text": [
      "\u001b[1mGliome\n",
      "\u001b[0m\n",
      "l'écart-type de la coordonnee x est :  5.0916790607256495  et l'écart-type de la coordonnee y est :  4.04783085195729\n",
      "la moyenne de la coordonnee x est de :  322.62594574201825  et la moyenne de la coordonnee y est de :  220.7154755238276\n",
      "la variance de la coordonnee x est de :  25.925195657432027  et la variance de la coordonnee y est de :  16.384934606057282\n"
     ]
    }
   ],
   "source": [
    "print('\\033[1m' + \"Gliome\")\n",
    "print('\\033[0m')\n",
    "print_caracteristics_mean_tumor(mean_tumor_class2_coord_x, mean_tumor_class2_coord_y)"
   ]
  },
  {
   "cell_type": "code",
   "execution_count": 22,
   "metadata": {},
   "outputs": [
    {
     "name": "stdout",
     "output_type": "stream",
     "text": [
      "\u001b[1mPituitaire\n",
      "\u001b[0m\n",
      "l'écart-type de la coordonnee x est :  5.235180203551121  et l'écart-type de la coordonnee y est :  4.264985110736015\n",
      "la moyenne de la coordonnee x est de :  324.0966647732178  et la moyenne de la coordonnee y est de :  220.94790332355737\n",
      "la variance de la coordonnee x est de :  27.407111763653553  et la variance de la coordonnee y est de :  18.1900979947999\n"
     ]
    }
   ],
   "source": [
    "print('\\033[1m' + \"Pituitaire\")\n",
    "print('\\033[0m')\n",
    "print_caracteristics_mean_tumor(mean_tumor_class3_coord_x, mean_tumor_class3_coord_y)"
   ]
  },
  {
   "cell_type": "code",
   "execution_count": 23,
   "metadata": {},
   "outputs": [
    {
     "name": "stdout",
     "output_type": "stream",
     "text": [
      "\u001b[1mToutes les données\n",
      "\u001b[0m\n",
      "l'écart-type de la coordonnee x est :  4.991679803165887  et l'écart-type de la coordonnee y est :  3.7330755993459737\n",
      "la moyenne de la coordonnee x est de :  322.41454383932626  et la moyenne de la coordonnee y est de :  220.55067717279542\n",
      "la variance de la coordonnee x est de :  24.91686725733423  et la variance de la coordonnee y est de :  13.9358534304323\n"
     ]
    }
   ],
   "source": [
    "print('\\033[1m' + \"Toutes les données\")\n",
    "print('\\033[0m')\n",
    "print_caracteristics_mean_tumor(mean_tumor_all_data_coord_x, mean_tumor_all_data_coord_y)"
   ]
  },
  {
   "cell_type": "code",
   "execution_count": null,
   "metadata": {},
   "outputs": [],
   "source": []
  }
 ],
 "metadata": {
  "kernelspec": {
   "display_name": "Python 3",
   "language": "python",
   "name": "python3"
  },
  "language_info": {
   "codemirror_mode": {
    "name": "ipython",
    "version": 3
   },
   "file_extension": ".py",
   "mimetype": "text/x-python",
   "name": "python",
   "nbconvert_exporter": "python",
   "pygments_lexer": "ipython3",
   "version": "3.8.5"
  }
 },
 "nbformat": 4,
 "nbformat_minor": 4
}
