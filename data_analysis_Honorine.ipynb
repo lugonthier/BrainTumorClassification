{
 "cells": [
  {
   "cell_type": "markdown",
   "metadata": {},
   "source": [
    "# Projet : Forage de données IFT870"
   ]
  },
  {
   "cell_type": "markdown",
   "metadata": {},
   "source": [
    "# Analyse des données\n",
    "Ce notebook contient les traces des démarches entreprises pour l'analyse des données mat bruts. Les différentes analyses sont les suivantes : \n",
    "- Pourcentage de la surface de la tumeur par rapport à toute l'image\n",
    "    - Pour toutes les données\n",
    "    - Pour une classe\n",
    "- Coordonnées moyenne de la tumeur\n",
    "    - Pour toutes les données\n",
    "    - Pour une classe  "
   ]
  },
  {
   "cell_type": "code",
   "execution_count": 1,
   "metadata": {},
   "outputs": [],
   "source": [
    "from pymatreader import read_mat\n",
    "import numpy as np\n",
    "import os\n",
    "import matplotlib.pyplot as plt"
   ]
  },
  {
   "cell_type": "code",
   "execution_count": 2,
   "metadata": {},
   "outputs": [],
   "source": [
    "def separate_mat_files():\n",
    "    directory = 'dataset/mat/'\n",
    "    list_file_class1 = []\n",
    "    list_file_class2 = []\n",
    "    list_file_class3 = []\n",
    "    \n",
    "    for filename in os.listdir(directory):\n",
    "        f = os.path.join(directory, filename) \n",
    "\n",
    "        if os.path.isfile(f):\n",
    "            mat = read_mat(f)\n",
    "            \n",
    "            if mat['cjdata']['label'] == 1.0:\n",
    "                list_file_class1.append(mat)\n",
    "                \n",
    "            if mat['cjdata']['label'] == 2.0:\n",
    "                list_file_class2.append(mat)\n",
    "                \n",
    "            if mat['cjdata']['label'] == 3.0:\n",
    "                list_file_class3.append(mat)\n",
    "                \n",
    "    return list_file_class1, list_file_class2, list_file_class3"
   ]
  },
  {
   "cell_type": "code",
   "execution_count": null,
   "metadata": {},
   "outputs": [],
   "source": [
    "list_file_class1, list_file_class2, list_file_class3 = separate_mat_files()"
   ]
  },
  {
   "cell_type": "markdown",
   "metadata": {},
   "source": [
    "# Pourcentage de la surface de la tumeur par rapport à toute l'image"
   ]
  },
  {
   "cell_type": "code",
   "execution_count": null,
   "metadata": {},
   "outputs": [],
   "source": [
    "def calculate_percentage_tumor_per_class(list_file_class):\n",
    "    \n",
    "    size_image = 512 * 512\n",
    "    list_percentage_per_class = []\n",
    "    \n",
    "    for i in range(len(list_file_class)):\n",
    "        size_tumor_i = list_file_class[i]['cjdata']['tumorMask'].sum()\n",
    "        percentage_tumor_i = size_tumor_i / size_image*100\n",
    "        list_percentage_per_class.append(percentage_tumor_i)\n",
    "    \n",
    "    return list_percentage_per_class\n",
    "\n",
    "percentage_class1 = calculate_percentage_tumor_per_class(list_file_class1)\n",
    "percentage_class2 = calculate_percentage_tumor_per_class(list_file_class2)\n",
    "percentage_class3 = calculate_percentage_tumor_per_class(list_file_class3)"
   ]
  },
  {
   "cell_type": "code",
   "execution_count": null,
   "metadata": {},
   "outputs": [],
   "source": [
    "percentage_all_data = percentage_class1 + percentage_class2 + percentage_class3"
   ]
  },
  {
   "cell_type": "code",
   "execution_count": null,
   "metadata": {},
   "outputs": [],
   "source": [
    "class_names = ['meningiome', 'gliome', 'pituitaire', 'toutes les donnees']\n",
    "\n",
    "percentage_class1_mean = np.mean(percentage_class1)\n",
    "percentage_class2_mean = np.mean(percentage_class2)\n",
    "percentage_class3_mean = np.mean(percentage_class3)\n",
    "percentage_all_data_mean = np.mean(percentage_all_data)\n",
    "\n",
    "list_mean = []\n",
    "list_mean.append(percentage_class1_mean)\n",
    "list_mean.append(percentage_class2_mean)\n",
    "list_mean.append(percentage_class3_mean)\n",
    "list_mean.append(percentage_all_data_mean)\n",
    "\n",
    "plt.figure(figsize=(10,4))  \n",
    "plt.bar(class_names, height=list_mean)\n",
    "plt.title('Mean of the percentage of the tumour area in relation to the whole image for each class')\n",
    "plt.savefig(\"out/mean_percentage_tumour_area.png\")\n",
    "plt.show()"
   ]
  },
  {
   "cell_type": "code",
   "execution_count": null,
   "metadata": {},
   "outputs": [],
   "source": [
    "class_names = ['meningiome', 'gliome', 'pituitaire', 'toutes les donnees']\n",
    "\n",
    "percentage_class1_std = np.std(percentage_class1)\n",
    "percentage_class2_std = np.std(percentage_class2)\n",
    "percentage_class3_std = np.std(percentage_class3)\n",
    "percentage_all_data_std = np.std(percentage_all_data)\n",
    "\n",
    "list_std = []\n",
    "list_std.append(percentage_class1_std)\n",
    "list_std.append(percentage_class2_std)\n",
    "list_std.append(percentage_class3_std)\n",
    "list_std.append(percentage_all_data_std)\n",
    "\n",
    "plt.figure(figsize=(10,4))  \n",
    "plt.bar(class_names, height=list_std)\n",
    "plt.title('Variance of the percentage of the tumour area compared to the whole image for each class')\n",
    "plt.savefig(\"out/variance_percentage_tumour_area.png\")\n",
    "plt.show()"
   ]
  },
  {
   "cell_type": "markdown",
   "metadata": {},
   "source": [
    "# Localisation de la moyenne de la tumeur"
   ]
  },
  {
   "cell_type": "code",
   "execution_count": null,
   "metadata": {},
   "outputs": [],
   "source": [
    "def calculate_mean_tumor_per_class(list_file_class):\n",
    "    \n",
    "    list_mean_tumor_per_class_coord_x = []\n",
    "    list_mean_tumor_per_class_coord_y = []\n",
    "    \n",
    "    for i in range(len(list_file_class)):\n",
    "        array_tumorBorder_i = list_file_class[i]['cjdata']['tumorBorder']\n",
    "        array_tumorBorder_ix = array_tumorBorder_i[0:len(array_tumorBorder_i):2]    \n",
    "        array_tumorBorder_iy = array_tumorBorder_i[1:len(array_tumorBorder_i):2]\n",
    "        mean_tumor_ix = array_tumorBorder_ix.sum() / len(array_tumorBorder_ix)\n",
    "        mean_tumor_iy = array_tumorBorder_iy.sum() / len(array_tumorBorder_iy)\n",
    "        list_mean_tumor_per_class_coord_x.append(mean_tumor_ix)\n",
    "        list_mean_tumor_per_class_coord_y.append(mean_tumor_iy)\n",
    "    \n",
    "    return list_mean_tumor_per_class_coord_x, list_mean_tumor_per_class_coord_y\n",
    "\n",
    "mean_tumor_class1_coord_x, mean_tumor_class1_coord_y = calculate_mean_tumor_per_class(list_file_class1)\n",
    "mean_tumor_class2_coord_x, mean_tumor_class2_coord_y = calculate_mean_tumor_per_class(list_file_class2)\n",
    "mean_tumor_class3_coord_x, mean_tumor_class3_coord_y = calculate_mean_tumor_per_class(list_file_class3)"
   ]
  },
  {
   "cell_type": "code",
   "execution_count": null,
   "metadata": {},
   "outputs": [],
   "source": [
    "mean_tumor_all_data_coord_x = mean_tumor_class1_coord_x + mean_tumor_class2_coord_x + mean_tumor_class3_coord_x\n",
    "mean_tumor_all_data_coord_y = mean_tumor_class1_coord_y + mean_tumor_class2_coord_y + mean_tumor_class3_coord_y"
   ]
  },
  {
   "cell_type": "code",
   "execution_count": null,
   "metadata": {},
   "outputs": [],
   "source": [
    "list_coord_class = []\n",
    "list_coord_class_ligne = []\n",
    "for i in range(len(mean_tumor_all_data_coord_x)):\n",
    "    list_coord_class_ligne.append(mean_tumor_all_data_coord_x[i])\n",
    "    list_coord_class_ligne.append(mean_tumor_all_data_coord_y[i])\n",
    "    if i < 708:\n",
    "        list_coord_class_ligne.append(1)\n",
    "    if i >= 708 and i < 2134:\n",
    "        list_coord_class_ligne.append(2)\n",
    "    if i >= 2134 :\n",
    "        list_coord_class_ligne.append(3)\n",
    "    list_coord_class.append(list_coord_class_ligne)\n",
    "    list_coord_class_ligne = []"
   ]
  },
  {
   "cell_type": "code",
   "execution_count": null,
   "metadata": {},
   "outputs": [],
   "source": [
    "array = np.asarray(list_coord_class)\n",
    "plt.figure(figsize=(10,10))\n",
    "plt.title('Scatterplot of the coordinates of the tumour mean according to each class')\n",
    "scatter  = plt.scatter(array[:,0], array[:,1], c= array[:,2])\n",
    "plt.xlabel(\"Tumor mean in x\")\n",
    "plt.ylabel(\"Tumor mean in y\")\n",
    "classes = ['Meningiome', 'Gliome', 'Pituitaire']\n",
    "plt.legend(handles=scatter.legend_elements()[0], labels=classes)\n",
    "plt.savefig(\"out/scatterplot_tumour_mean.png\")\n",
    "plt.show()\n"
   ]
  }
 ],
 "metadata": {
  "kernelspec": {
   "display_name": "Python 3",
   "language": "python",
   "name": "python3"
  },
  "language_info": {
   "codemirror_mode": {
    "name": "ipython",
    "version": 3
   },
   "file_extension": ".py",
   "mimetype": "text/x-python",
   "name": "python",
   "nbconvert_exporter": "python",
   "pygments_lexer": "ipython3",
   "version": "3.8.5"
  }
 },
 "nbformat": 4,
 "nbformat_minor": 4
}
